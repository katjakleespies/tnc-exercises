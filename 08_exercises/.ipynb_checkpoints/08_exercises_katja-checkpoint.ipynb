{
 "cells": [
  {
   "cell_type": "markdown",
   "metadata": {},
   "source": [
    "# Exercises 8: Mutual Information #"
   ]
  },
  {
   "cell_type": "code",
   "execution_count": 1,
   "metadata": {},
   "outputs": [],
   "source": [
    "import numpy as np\n",
    "from matplotlib import pyplot as plt\n",
    "import scipy.stats as scist\n",
    "from scipy import optimize"
   ]
  },
  {
   "cell_type": "markdown",
   "metadata": {},
   "source": [
    "## 2. Density-Based Method ##"
   ]
  },
  {
   "cell_type": "markdown",
   "metadata": {},
   "source": [
    "The file singleunit.py contains a function that simulates spike count output $\\vec{k}$ of two neurons for a\n",
    "stimulus with a single parameter $\\theta_n=(n/12) \\pi$, $n=0,...,11$."
   ]
  },
  {
   "cell_type": "code",
   "execution_count": 2,
   "metadata": {},
   "outputs": [],
   "source": [
    "import numpy as np\n",
    "import scipy.stats as scist\n",
    "\n",
    "def record(theta):\n",
    "\n",
    "    mu1=10.*(np.cos(theta-np.pi/8)+1)/2\n",
    "    \n",
    "    mu2=2.*(np.cos(theta-5*np.pi/8)+1)/2\n",
    "\n",
    "    k=np.zeros((2,len(theta)))\n",
    "    noise=np.random.rand(2,len(theta))\n",
    "    for n in range(len(theta)):\n",
    "        th=theta[n]\n",
    "        k[0,n]=scist.poisson.ppf(noise[0,n],mu1[n])\n",
    "        k[1,n]=scist.poisson.ppf(noise[1,n],mu2[n])\n",
    "\n",
    "\n",
    "    return k"
   ]
  },
  {
   "cell_type": "markdown",
   "metadata": {},
   "source": [
    "(a) Sample $\\vec{k}$ from 100 repetitions of each of the 12 stimuli (uniform distribution of $\\theta$)."
   ]
  },
  {
   "cell_type": "code",
   "execution_count": 4,
   "metadata": {},
   "outputs": [
    {
     "name": "stdout",
     "output_type": "stream",
     "text": [
      "Thetas: [0.         0.26179939 0.52359878 0.78539816 1.04719755 1.30899694\n",
      " 1.57079633 1.83259571 2.0943951  2.35619449 2.61799388 2.87979327]\n"
     ]
    }
   ],
   "source": [
    "rep = 100\n",
    "theta = np.pi * np.arange(0, 12, 1) / 12\n",
    "\n",
    "print('Thetas:', theta)"
   ]
  },
  {
   "cell_type": "code",
   "execution_count": 8,
   "metadata": {},
   "outputs": [],
   "source": [
    "k = np.zeros((2, len(theta), rep))\n",
    "\n",
    "for i in range(rep):\n",
    "    k[:, :, i] = record(theta)"
   ]
  },
  {
   "cell_type": "markdown",
   "metadata": {},
   "source": [
    "(b) Find $\\vec{\\lambda}(\\theta)$ using a maximum (log)likelihood approach for the model distribution\n",
    "\n",
    "$$p(\\vec{k}|\\theta) = \\frac{[\\lambda_1(\\theta)]^{k_1} [\\lambda_2(\\theta)]^{k_2}}{k_1! k_2!} exp[−\\lambda_1(\\theta) − \\lambda_2(\\theta)]$$\n",
    "\n",
    "Use scipy.optimize.fmin to fit the parameters."
   ]
  },
  {
   "cell_type": "code",
   "execution_count": 9,
   "metadata": {},
   "outputs": [],
   "source": [
    "# functions for computing the negative log-likelihood and optimization\n",
    "def negative_loglikelihood(guess_lambda, *args):\n",
    "    # guess_lambda[0] = lambda_1, guess_lambda[0] = lambda_2\n",
    "    log_lik = np.sum((k_1 * np.log(guess_lambda[0]) - guess_lambda[0])) + np.sum((k_2 * np.log(guess_lambda[1]) - guess_lambda[1])) # log-likelihood from product of two Poissons\n",
    "    return -log_lik\n",
    "\n",
    "def minimize_likelihood(guess_lambda, k_1, k_2):\n",
    "    minimum = optimize.fmin(negative_loglikelihood, guess_lambda, args=(k_1,k_2))\n",
    "    return minimum"
   ]
  },
  {
   "cell_type": "code",
   "execution_count": 10,
   "metadata": {},
   "outputs": [
    {
     "name": "stdout",
     "output_type": "stream",
     "text": [
      "Optimization terminated successfully.\n",
      "         Current function value: -1181.602342\n",
      "         Iterations: 53\n",
      "         Function evaluations: 102\n",
      "Optimization terminated successfully.\n",
      "         Current function value: -1321.564034\n",
      "         Iterations: 59\n",
      "         Function evaluations: 112\n",
      "Optimization terminated successfully.\n",
      "         Current function value: -1231.093885\n",
      "         Iterations: 58\n",
      "         Function evaluations: 110\n",
      "Optimization terminated successfully.\n",
      "         Current function value: -1114.647721\n",
      "         Iterations: 70\n",
      "         Function evaluations: 129\n",
      "Optimization terminated successfully.\n",
      "         Current function value: -911.951527\n",
      "         Iterations: 56\n",
      "         Function evaluations: 113\n",
      "Optimization terminated successfully.\n",
      "         Current function value: -890.980141\n",
      "         Iterations: 57\n",
      "         Function evaluations: 114\n",
      "Optimization terminated successfully.\n",
      "         Current function value: -584.447967\n",
      "         Iterations: 58\n",
      "         Function evaluations: 112\n",
      "Optimization terminated successfully.\n",
      "         Current function value: -373.667349\n",
      "         Iterations: 63\n",
      "         Function evaluations: 119\n",
      "Optimization terminated successfully.\n",
      "         Current function value: -121.809688\n",
      "         Iterations: 64\n",
      "         Function evaluations: 126\n",
      "Optimization terminated successfully.\n",
      "         Current function value: 44.717207\n",
      "         Iterations: 54\n",
      "         Function evaluations: 104\n",
      "Optimization terminated successfully.\n",
      "         Current function value: 148.890404\n",
      "         Iterations: 49\n",
      "         Function evaluations: 93\n",
      "Optimization terminated successfully.\n",
      "         Current function value: 192.975854\n",
      "         Iterations: 46\n",
      "         Function evaluations: 89\n"
     ]
    }
   ],
   "source": [
    "lambdas = np.zeros((2, len(theta)))\n",
    "guess_lambda = np.random.rand(2)\n",
    "\n",
    "for i in range(len(theta)):\n",
    "    k_1 = k[0, i, :]\n",
    "    k_2 = k[1, i, :]\n",
    "    lambdas[:, i] = minimize_likelihood(guess_lambda, k_1, k_2)"
   ]
  },
  {
   "cell_type": "code",
   "execution_count": 11,
   "metadata": {},
   "outputs": [
    {
     "name": "stdout",
     "output_type": "stream",
     "text": [
      "lambda 1:\n",
      " [ 9.87995619 10.50004714 10.1099818   9.59995729  8.62003796  8.49002723\n",
      "  6.93001936  5.75001866  4.10998489  3.01999857  1.90003503  0.92997499] \n",
      "lambda 2:\n",
      " [0.66001084 0.77999619 1.26001327 1.27001517 1.63999784 1.76999209\n",
      " 1.96002026 2.06001403 2.18002424 1.75995724 1.67998993 1.38999322]\n"
     ]
    }
   ],
   "source": [
    "print('lambda 1:\\n', lambdas[0, :], '\\nlambda 2:\\n', lambdas[1, :])"
   ]
  },
  {
   "cell_type": "code",
   "execution_count": 12,
   "metadata": {},
   "outputs": [
    {
     "data": {
      "image/png": "[encoded data removed]",
      "text/plain": [
       "<Figure size 432x288 with 1 Axes>"
      ]
     },
     "metadata": {
      "needs_background": "light"
     },
     "output_type": "display_data"
    }
   ],
   "source": [
    "plt.plot(lambdas[0, :], )\n",
    "plt.plot(lambdas[1, :])\n",
    "plt.xlabel('$\\\\theta$')\n",
    "_ = plt.ylabel('$\\lambda$')"
   ]
  },
  {
   "cell_type": "markdown",
   "metadata": {},
   "source": [
    "(c) Compute the entropy $H(K_i)$ of the marginal distribution of $p(k_i) = \\sum_j p(k_i|\\theta_j)p(\\theta_j)$ by numerical summation over all $N$ samples $k^{(n)}_i$.\n",
    "\n",
    "\n",
    "$$ H(K_i) = −N^{−1} \\sum_{n=1}^{N} ln [\\sum_j p(k_i^{(n)}|\\theta_j)p(\\theta_j)] $$"
   ]
  },
  {
   "cell_type": "code",
   "execution_count": 36,
   "metadata": {},
   "outputs": [],
   "source": [
    "def entropy(k, rep, lambdas, p_theta):\n",
    "    H = np.zeros(2)\n",
    "    for i in range(k.shape[0]):\n",
    "        curr_entropy = 0\n",
    "        for j in range(rep):\n",
    "            for l in range(len(p_theta)):\n",
    "                curr_margin = 0\n",
    "                for m in range(len(p_theta)):\n",
    "                    curr_margin += marginal(k[i, l, j], lambdas[i, m], p_theta[m])\n",
    "                curr_entropy += np.log(curr_margin)\n",
    "        H[i] = -curr_entropy / (rep*len(p_theta))\n",
    "    return H\n",
    "\n",
    "def marginal(k, lam, p_theta):\n",
    "    lik = (lam ** k) / (np.math.factorial(k)) * np.exp(-lam) * p_theta\n",
    "    return lik"
   ]
  },
  {
   "cell_type": "code",
   "execution_count": 57,
   "metadata": {},
   "outputs": [
    {
     "name": "stdout",
     "output_type": "stream",
     "text": [
      "Entropy H(k1): 2.7687617706998795\n",
      "Entropy H(k2): 1.599863308112843\n"
     ]
    }
   ],
   "source": [
    "p_theta = np.full(len(theta), 1/12)\n",
    "\n",
    "H = entropy(k, rep, lambdas, p_theta)\n",
    "\n",
    "print('Entropy H(k1):', H[0])\n",
    "print('Entropy H(k2):', H[1])"
   ]
  },
  {
   "cell_type": "markdown",
   "metadata": {},
   "source": [
    "Neuron 1 has a larger variance (because it has a larger mean $\\lambda$ which for a Poisson neuron then also determines the variance) and therefore higher entropy (\"can produce richer code\"). \n",
    "\n",
    "Analytically, we saw this also in 1.(c) where we derived that the entropy scales with the logarithm of $\\sigma$."
   ]
  },
  {
   "cell_type": "markdown",
   "metadata": {},
   "source": [
    "(d) Compute the mutual information $I(\\vec{K},\\theta) = H(\\vec{K}) − H(\\vec{K}|\\theta) = \\sum_i [H(K_i) − H(K_i|\\theta)]$ with the noise entropy \n",
    "\n",
    "$$H(K_i|\\theta) = N^{−1} \\sum_n [−k^{(n)}_i~ln(\\lambda_i(\\theta^{(n)})) + \\lambda_i(\\theta^{(n)}) + ln(k^{(n)}_i !)] $$"
   ]
  },
  {
   "cell_type": "code",
   "execution_count": 47,
   "metadata": {},
   "outputs": [],
   "source": [
    "def mutual_information(H, H_noise, k, lambdas):\n",
    "    mutual_information = np.sum(H - H_noise)\n",
    "    return mutual_information\n",
    "\n",
    "def noise_entropy(k, lambdas):\n",
    "    H_noise = np.zeros((k.shape[0]))\n",
    "    for i in range(k.shape[0]):\n",
    "        curr_h = 0\n",
    "        for j in range(k.shape[2]):\n",
    "            for l in range(k.shape[1]):\n",
    "                curr_h += -k[i, l, j] * np.log(lambdas[i, l]) + lambdas[i, l] + np.log(float(np.math.factorial(k[i, l, j])))\n",
    "        H_noise[i] = curr_h / (rep*len(p_theta))\n",
    "    return H_noise               "
   ]
  },
  {
   "cell_type": "code",
   "execution_count": 56,
   "metadata": {},
   "outputs": [
    {
     "name": "stdout",
     "output_type": "stream",
     "text": [
      "Entropy H(k1): 2.7687617706998795\n",
      "Noise entropy H(k1|theta): 2.236609397340329\n",
      "Entropy H(k2): 1.599863308112843\n",
      "Noise entropy H(k2|theta): 1.5315070272768914\n",
      "Mutual information I: 0.600508654195502\n"
     ]
    }
   ],
   "source": [
    "H_noise = noise_entropy(k, lambdas)\n",
    "I = mutual_information(H, H_noise, k, lambdas)\n",
    "\n",
    "print('Entropy H(k1):', H[0])\n",
    "print('Noise entropy H(k1|theta):', H_noise[0])\n",
    "print('Entropy H(k2):', H[1])\n",
    "print('Noise entropy H(k2|theta):', H_noise[1])\n",
    "print('Mutual information I:', I)"
   ]
  },
  {
   "cell_type": "markdown",
   "metadata": {},
   "source": [
    "For neuron 1, the difference between entropy and noise entropy is larger than for neuron 2. "
   ]
  },
  {
   "cell_type": "markdown",
   "metadata": {},
   "source": [
    "(e) Compute the upper bound\n",
    "\n",
    "$$ I(\\vec{K},\\theta) = ln[1 + \\frac{var(\\theta)}{var(k_1)+var(k_2)}] / 2 $$"
   ]
  },
  {
   "cell_type": "code",
   "execution_count": 58,
   "metadata": {},
   "outputs": [],
   "source": [
    "def upper_bound(theta, k):\n",
    "    bound = np.log(1 + (np.var(theta) / (np.var(k[0, :, :]) + np.var(k[1, :, :]))) / 2)\n",
    "    return bound"
   ]
  },
  {
   "cell_type": "code",
   "execution_count": 59,
   "metadata": {},
   "outputs": [
    {
     "name": "stdout",
     "output_type": "stream",
     "text": [
      "Upper bound: 0.02112066453961229\n"
     ]
    }
   ],
   "source": [
    "bound = upper_bound(theta, k)\n",
    "\n",
    "print('Upper bound:', bound)"
   ]
  },
  {
   "cell_type": "markdown",
   "metadata": {},
   "source": [
    "Note: there was a mistake in the upper bound formula."
   ]
  },
  {
   "cell_type": "markdown",
   "metadata": {},
   "source": [
    "(f) Repeat your computations for a prior distribution $p(\\theta)$ in which $\\theta_6$ occurs 10 times as often as all\n",
    "the other $\\theta$s."
   ]
  },
  {
   "cell_type": "code",
   "execution_count": 65,
   "metadata": {},
   "outputs": [
    {
     "name": "stdout",
     "output_type": "stream",
     "text": [
      "Thetas: [0.         0.26179939 0.52359878 0.78539816 1.04719755 1.30899694\n",
      " 1.30899694 1.30899694 1.30899694 1.30899694 1.30899694 1.30899694\n",
      " 1.30899694 1.30899694 1.30899694 1.57079633 1.83259571 2.0943951\n",
      " 2.35619449 2.61799388 2.87979327]\n"
     ]
    }
   ],
   "source": [
    "# (a)\n",
    "\n",
    "rep = 100\n",
    "theta_raw = np.pi * np.arange(0, 12, 1) / 12\n",
    "theta = np.hstack((theta_raw[:5], np.full(10, theta_raw[5]), theta_raw[6:]))\n",
    "\n",
    "print('Thetas:', theta)"
   ]
  },
  {
   "cell_type": "code",
   "execution_count": 66,
   "metadata": {},
   "outputs": [],
   "source": [
    "k = np.zeros((2, len(theta), rep))\n",
    "\n",
    "for i in range(rep):\n",
    "    k[:, :, i] = record(theta)"
   ]
  },
  {
   "cell_type": "code",
   "execution_count": 67,
   "metadata": {},
   "outputs": [
    {
     "name": "stdout",
     "output_type": "stream",
     "text": [
      "Optimization terminated successfully.\n",
      "         Current function value: -1116.689181\n",
      "         Iterations: 51\n",
      "         Function evaluations: 99\n",
      "Optimization terminated successfully.\n",
      "         Current function value: -1283.800916\n",
      "         Iterations: 50\n",
      "         Function evaluations: 97\n",
      "Optimization terminated successfully.\n",
      "         Current function value: -1312.439092\n",
      "         Iterations: 51\n",
      "         Function evaluations: 99\n",
      "Optimization terminated successfully.\n",
      "         Current function value: -1168.765364\n",
      "         Iterations: 49\n",
      "         Function evaluations: 96\n",
      "Optimization terminated successfully.\n",
      "         Current function value: -974.756459\n",
      "         Iterations: 44\n",
      "         Function evaluations: 87\n",
      "Optimization terminated successfully.\n",
      "         Current function value: -803.833221\n",
      "         Iterations: 49\n",
      "         Function evaluations: 95\n",
      "Optimization terminated successfully.\n",
      "         Current function value: -807.212469\n",
      "         Iterations: 48\n",
      "         Function evaluations: 95\n",
      "Optimization terminated successfully.\n",
      "         Current function value: -776.202096\n",
      "         Iterations: 49\n",
      "         Function evaluations: 94\n",
      "Optimization terminated successfully.\n",
      "         Current function value: -749.204755\n",
      "         Iterations: 48\n",
      "         Function evaluations: 93\n",
      "Optimization terminated successfully.\n",
      "         Current function value: -874.878614\n",
      "         Iterations: 45\n",
      "         Function evaluations: 87\n",
      "Optimization terminated successfully.\n",
      "         Current function value: -895.714732\n",
      "         Iterations: 45\n",
      "         Function evaluations: 90\n",
      "Optimization terminated successfully.\n",
      "         Current function value: -817.181465\n",
      "         Iterations: 48\n",
      "         Function evaluations: 95\n",
      "Optimization terminated successfully.\n",
      "         Current function value: -751.025856\n",
      "         Iterations: 45\n",
      "         Function evaluations: 89\n",
      "Optimization terminated successfully.\n",
      "         Current function value: -868.097731\n",
      "         Iterations: 49\n",
      "         Function evaluations: 97\n",
      "Optimization terminated successfully.\n",
      "         Current function value: -735.241015\n",
      "         Iterations: 42\n",
      "         Function evaluations: 83\n",
      "Optimization terminated successfully.\n",
      "         Current function value: -505.613188\n",
      "         Iterations: 47\n",
      "         Function evaluations: 91\n",
      "Optimization terminated successfully.\n",
      "         Current function value: -371.509831\n",
      "         Iterations: 54\n",
      "         Function evaluations: 104\n",
      "Optimization terminated successfully.\n",
      "         Current function value: -191.033485\n",
      "         Iterations: 53\n",
      "         Function evaluations: 97\n",
      "Optimization terminated successfully.\n",
      "         Current function value: 16.125998\n",
      "         Iterations: 45\n",
      "         Function evaluations: 86\n",
      "Optimization terminated successfully.\n",
      "         Current function value: 150.652692\n",
      "         Iterations: 43\n",
      "         Function evaluations: 84\n",
      "Optimization terminated successfully.\n",
      "         Current function value: 188.250748\n",
      "         Iterations: 39\n",
      "         Function evaluations: 72\n"
     ]
    }
   ],
   "source": [
    "# (b)\n",
    "\n",
    "lambdas = np.zeros((2, len(theta)))\n",
    "guess_lambda = np.random.rand(2)\n",
    "\n",
    "for i in range(len(theta)):\n",
    "    k_1 = k[0, i, :]\n",
    "    k_2 = k[1, i, :]\n",
    "    lambdas[:, i] = minimize_likelihood(guess_lambda, k_1, k_2)"
   ]
  },
  {
   "cell_type": "code",
   "execution_count": 68,
   "metadata": {},
   "outputs": [
    {
     "name": "stdout",
     "output_type": "stream",
     "text": [
      "lambda 1:\n",
      " [ 9.59999183 10.35000017 10.46001861  9.83996032  8.93997329  8.04003502\n",
      "  8.04997335  7.91000906  7.79995779  8.43999781  8.52000891  8.10998622\n",
      "  7.80001647  8.38007394  7.77999356  6.57004183  5.7999792   4.55004217\n",
      "  3.23996229  2.01000154  0.81999137] \n",
      "lambda 2:\n",
      " [0.69000672 1.02000859 1.24999706 1.24999314 1.49000216 1.8999976\n",
      " 1.9199846  1.89002269 1.81997972 1.66998385 1.74001981 1.88000454\n",
      " 1.84999621 1.77999185 1.63998556 1.79999751 1.89998339 2.24000084\n",
      " 1.82001126 1.480021   1.4799517 ]\n"
     ]
    }
   ],
   "source": [
    "print('lambda 1:\\n', lambdas[0, :], '\\nlambda 2:\\n', lambdas[1, :])"
   ]
  },
  {
   "cell_type": "code",
   "execution_count": 69,
   "metadata": {},
   "outputs": [
    {
     "name": "stdout",
     "output_type": "stream",
     "text": [
      "Entropy H(k1): 2.6984074109614937\n",
      "Entropy H(k2): 1.6170000687663078\n"
     ]
    }
   ],
   "source": [
    "# (c)\n",
    "\n",
    "p_theta = np.full(len(theta), 1/21)\n",
    "\n",
    "H = entropy(k, rep, lambdas, p_theta)\n",
    "\n",
    "print('Entropy H(k1):', H[0])\n",
    "print('Entropy H(k2):', H[1])"
   ]
  },
  {
   "cell_type": "code",
   "execution_count": 70,
   "metadata": {},
   "outputs": [
    {
     "name": "stdout",
     "output_type": "stream",
     "text": [
      "Entropy H(k1): 2.6984074109614937\n",
      "Noise entropy H(k1|theta): 2.3205135216422033\n",
      "Entropy H(k2): 1.6170000687663078\n",
      "Noise entropy H(k2|theta): 1.577796979418256\n",
      "Mutual information I: 0.4170969786673422\n"
     ]
    }
   ],
   "source": [
    "# (d)\n",
    "\n",
    "H_noise = noise_entropy(k, lambdas)\n",
    "I = mutual_information(H, H_noise, k, lambdas)\n",
    "\n",
    "print('Entropy H(k1):', H[0])\n",
    "print('Noise entropy H(k1|theta):', H_noise[0])\n",
    "print('Entropy H(k2):', H[1])\n",
    "print('Noise entropy H(k2|theta):', H_noise[1])\n",
    "print('Mutual information I:', I)"
   ]
  },
  {
   "cell_type": "code",
   "execution_count": 71,
   "metadata": {},
   "outputs": [
    {
     "name": "stdout",
     "output_type": "stream",
     "text": [
      "Upper bound: 0.015147270582199352\n"
     ]
    }
   ],
   "source": [
    "# (e)\n",
    "\n",
    "bound = upper_bound(theta, k)\n",
    "\n",
    "print('Upper bound:', bound)"
   ]
  },
  {
   "cell_type": "markdown",
   "metadata": {},
   "source": [
    "Comment on 1.(f):\n",
    "\n",
    "For both neurons, the difference between the entropy and noise entropy decreases.\n",
    "\n",
    "THerefore, the mutual information becomes smaller because with the peaked stimulus distributions (distribution of thetas), the output is more certain (less surprising / smaller variability), which leads to a smaller variability in the output and therefore variability that is still in the output is due to contribution of the noise."
   ]
  }
 ],
 "metadata": {
  "kernelspec": {
   "display_name": "Python 3",
   "language": "python",
   "name": "python3"
  },
  "language_info": {
   "codemirror_mode": {
    "name": "ipython",
    "version": 3
   },
   "file_extension": ".py",
   "mimetype": "text/x-python",
   "name": "python",
   "nbconvert_exporter": "python",
   "pygments_lexer": "ipython3",
   "version": "3.8.3"
  }
 },
 "nbformat": 4,
 "nbformat_minor": 4
}
