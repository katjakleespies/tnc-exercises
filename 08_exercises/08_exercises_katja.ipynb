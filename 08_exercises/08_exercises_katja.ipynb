{
 "cells": [
  {
   "cell_type": "markdown",
   "metadata": {},
   "source": [
    "# Exercises 8: Mutual Information #"
   ]
  },
  {
   "cell_type": "code",
   "execution_count": 1,
   "metadata": {},
   "outputs": [],
   "source": [
    "import numpy as np\n",
    "from matplotlib import pyplot as plt\n",
    "import scipy.stats as scist\n",
    "from scipy import optimize"
   ]
  },
  {
   "cell_type": "markdown",
   "metadata": {},
   "source": [
    "## 2. Density-Based Method ##"
   ]
  },
  {
   "cell_type": "markdown",
   "metadata": {},
   "source": [
    "The file singleunit.py contains a function that simulates spike count output $\\vec{k}$ of two neurons for a\n",
    "stimulus with a single parameter $\\theta_n=(n/12) \\pi$, $n=0,...,11$."
   ]
  },
  {
   "cell_type": "code",
   "execution_count": 2,
   "metadata": {},
   "outputs": [],
   "source": [
    "import numpy as np\n",
    "import scipy.stats as scist\n",
    "\n",
    "def record(theta):\n",
    "\n",
    "    mu1=10.*(np.cos(theta-np.pi/8)+1)/2\n",
    "    \n",
    "    mu2=2.*(np.cos(theta-5*np.pi/8)+1)/2\n",
    "\n",
    "    k=np.zeros((2,len(theta)))\n",
    "    noise=np.random.rand(2,len(theta))\n",
    "    for n in range(len(theta)):\n",
    "        th=theta[n]\n",
    "        k[0,n]=scist.poisson.ppf(noise[0,n],mu1[n])\n",
    "        k[1,n]=scist.poisson.ppf(noise[1,n],mu2[n])\n",
    "\n",
    "\n",
    "    return k"
   ]
  },
  {
   "cell_type": "markdown",
   "metadata": {},
   "source": [
    "(a) Sample $\\vec{k}$ from 100 repetitions of each of the 12 stimuli (uniform distribution of $\\theta$)."
   ]
  },
  {
   "cell_type": "code",
   "execution_count": 3,
   "metadata": {},
   "outputs": [
    {
     "name": "stdout",
     "output_type": "stream",
     "text": [
      "Thetas: [0.         0.26179939 0.52359878 0.78539816 1.04719755 1.30899694\n",
      " 1.57079633 1.83259571 2.0943951  2.35619449 2.61799388 2.87979327]\n"
     ]
    },
    {
     "data": {
      "text/plain": [
       "Text(0.5, 1.0, 'stimulus distribution')"
      ]
     },
     "execution_count": 3,
     "metadata": {},
     "output_type": "execute_result"
    },
    {
     "data": {
      "image/png": "[encoded data removed]",
      "text/plain": [
       "<Figure size 432x288 with 1 Axes>"
      ]
     },
     "metadata": {
      "needs_background": "light"
     },
     "output_type": "display_data"
    }
   ],
   "source": [
    "rep = 100\n",
    "theta = np.pi * np.arange(0, 12, 1) / 12\n",
    "\n",
    "print('Thetas:', theta)\n",
    "plt.hist(theta, bins = 12)\n",
    "plt.xlabel('$\\\\theta$')\n",
    "plt.title('stimulus distribution')"
   ]
  },
  {
   "cell_type": "code",
   "execution_count": 4,
   "metadata": {},
   "outputs": [],
   "source": [
    "k = np.zeros((2, len(theta), rep))\n",
    "\n",
    "for i in range(rep):\n",
    "    k[:, :, i] = record(theta)"
   ]
  },
  {
   "cell_type": "markdown",
   "metadata": {},
   "source": [
    "(b) Find $\\vec{\\lambda}(\\theta)$ using a maximum (log)likelihood approach for the model distribution\n",
    "\n",
    "$$p(\\vec{k}|\\theta) = \\frac{[\\lambda_1(\\theta)]^{k_1} [\\lambda_2(\\theta)]^{k_2}}{k_1! k_2!} exp[−\\lambda_1(\\theta) − \\lambda_2(\\theta)]$$\n",
    "\n",
    "Use scipy.optimize.fmin to fit the parameters."
   ]
  },
  {
   "cell_type": "code",
   "execution_count": 5,
   "metadata": {},
   "outputs": [],
   "source": [
    "# functions for computing the negative log-likelihood and optimization\n",
    "def negative_loglikelihood(guess_lambda, *args):\n",
    "    # guess_lambda[0] = lambda_1, guess_lambda[0] = lambda_2\n",
    "    log_lik = np.sum((k_1 * np.log(guess_lambda[0]) - guess_lambda[0])) + np.sum((k_2 * np.log(guess_lambda[1]) - guess_lambda[1])) # log-likelihood from product of two Poissons\n",
    "    return -log_lik\n",
    "\n",
    "def minimize_likelihood(guess_lambda, k_1, k_2):\n",
    "    minimum = optimize.fmin(negative_loglikelihood, guess_lambda, args=(k_1,k_2))\n",
    "    return minimum"
   ]
  },
  {
   "cell_type": "code",
   "execution_count": 6,
   "metadata": {},
   "outputs": [
    {
     "name": "stdout",
     "output_type": "stream",
     "text": [
      "Optimization terminated successfully.\n",
      "         Current function value: -1083.476602\n",
      "         Iterations: 68\n",
      "         Function evaluations: 129\n",
      "Optimization terminated successfully.\n",
      "         Current function value: -1151.246503\n",
      "         Iterations: 63\n",
      "         Function evaluations: 118\n",
      "Optimization terminated successfully.\n",
      "         Current function value: -1251.158352\n",
      "         Iterations: 61\n",
      "         Function evaluations: 117\n",
      "Optimization terminated successfully.\n",
      "         Current function value: -1091.332845\n",
      "         Iterations: 64\n",
      "         Function evaluations: 121\n",
      "Optimization terminated successfully.\n",
      "         Current function value: -792.087786\n",
      "         Iterations: 63\n",
      "         Function evaluations: 118\n",
      "Optimization terminated successfully.\n",
      "         Current function value: -756.566502\n",
      "         Iterations: 61\n",
      "         Function evaluations: 117\n",
      "Optimization terminated successfully.\n",
      "         Current function value: -478.771917\n",
      "         Iterations: 57\n",
      "         Function evaluations: 112\n",
      "Optimization terminated successfully.\n",
      "         Current function value: -303.774954\n",
      "         Iterations: 54\n",
      "         Function evaluations: 105\n",
      "Optimization terminated successfully.\n",
      "         Current function value: -99.528368\n",
      "         Iterations: 58\n",
      "         Function evaluations: 113\n",
      "Optimization terminated successfully.\n",
      "         Current function value: 18.807253\n",
      "         Iterations: 54\n",
      "         Function evaluations: 105\n",
      "Optimization terminated successfully.\n",
      "         Current function value: 155.109593\n",
      "         Iterations: 48\n",
      "         Function evaluations: 93\n",
      "Optimization terminated successfully.\n",
      "         Current function value: 183.719827\n",
      "         Iterations: 51\n",
      "         Function evaluations: 95\n"
     ]
    },
    {
     "name": "stderr",
     "output_type": "stream",
     "text": [
      "<ipython-input-5-07c847c79c2e>:4: RuntimeWarning: invalid value encountered in log\n",
      "  log_lik = np.sum((k_1 * np.log(guess_lambda[0]) - guess_lambda[0])) + np.sum((k_2 * np.log(guess_lambda[1]) - guess_lambda[1])) # log-likelihood from product of two Poissons\n"
     ]
    }
   ],
   "source": [
    "lambdas = np.zeros((2, len(theta)))\n",
    "guess_lambda = np.random.rand(2)\n",
    "\n",
    "for i in range(len(theta)):\n",
    "    k_1 = k[0, i, :]\n",
    "    k_2 = k[1, i, :]\n",
    "    lambdas[:, i] = minimize_likelihood(guess_lambda, k_1, k_2)"
   ]
  },
  {
   "cell_type": "code",
   "execution_count": 7,
   "metadata": {},
   "outputs": [
    {
     "name": "stdout",
     "output_type": "stream",
     "text": [
      "lambda 1:\n",
      " [ 9.41998109  9.76998926 10.20997959  9.47996939  8.04002288  7.85000809\n",
      "  6.38997829  5.32003821  4.11996519  3.1100099   1.92004293  0.95000351] \n",
      "lambda 2:\n",
      " [0.54000191 0.83998231 1.00001015 1.40000101 1.70000933 1.76998484\n",
      " 1.91000133 2.11003145 1.84003114 2.01002296 1.51998532 1.61997884]\n"
     ]
    }
   ],
   "source": [
    "print('lambda 1:\\n', lambdas[0, :], '\\nlambda 2:\\n', lambdas[1, :])"
   ]
  },
  {
   "cell_type": "code",
   "execution_count": 8,
   "metadata": {},
   "outputs": [
    {
     "data": {
      "image/png": "[encoded data removed]",
      "text/plain": [
       "<Figure size 432x288 with 1 Axes>"
      ]
     },
     "metadata": {
      "needs_background": "light"
     },
     "output_type": "display_data"
    }
   ],
   "source": [
    "plt.plot(lambdas[0, :], )\n",
    "plt.plot(lambdas[1, :])\n",
    "plt.xlabel('$\\\\theta$')\n",
    "_ = plt.ylabel('$\\lambda$')"
   ]
  },
  {
   "cell_type": "markdown",
   "metadata": {},
   "source": [
    "(c) Compute the entropy $H(K_i)$ of the marginal distribution of $p(k_i) = \\sum_j p(k_i|\\theta_j)p(\\theta_j)$ by numerical summation over all $N$ samples $k^{(n)}_i$.\n",
    "\n",
    "\n",
    "$$ H(K_i) = −N^{−1} \\sum_{n=1}^{N} ln [\\sum_j p(k_i^{(n)}|\\theta_j)p(\\theta_j)] $$"
   ]
  },
  {
   "cell_type": "code",
   "execution_count": 9,
   "metadata": {},
   "outputs": [],
   "source": [
    "def entropy(k, rep, lambdas, p_theta):\n",
    "    H = np.zeros(2)\n",
    "    for i in range(k.shape[0]):\n",
    "        curr_entropy = 0\n",
    "        for j in range(rep):\n",
    "            for l in range(len(p_theta)):\n",
    "                curr_margin = 0\n",
    "                for m in range(len(p_theta)):\n",
    "                    curr_margin += marginal(k[i, l, j], lambdas[i, m], p_theta[m])\n",
    "                curr_entropy += np.log(curr_margin)\n",
    "        H[i] = -curr_entropy / (rep*len(p_theta))\n",
    "    return H\n",
    "\n",
    "def marginal(k, lam, p_theta):\n",
    "    lik = (lam ** k) / (np.math.factorial(k)) * np.exp(-lam) * p_theta\n",
    "    return lik"
   ]
  },
  {
   "cell_type": "code",
   "execution_count": 10,
   "metadata": {},
   "outputs": [
    {
     "name": "stdout",
     "output_type": "stream",
     "text": [
      "Entropy H(k1): 2.7512897604107653\n",
      "Entropy H(k2): 1.5946193471370724\n"
     ]
    }
   ],
   "source": [
    "p_theta = np.full(len(theta), 1/12)\n",
    "\n",
    "H = entropy(k, rep, lambdas, p_theta)\n",
    "\n",
    "print('Entropy H(k1):', H[0])\n",
    "print('Entropy H(k2):', H[1])"
   ]
  },
  {
   "cell_type": "markdown",
   "metadata": {},
   "source": [
    "Neuron 1 has a larger variance (because it has a larger mean $\\lambda$ which for a Poisson neuron then also determines the variance) and therefore higher entropy (\"can produce richer code\"). \n",
    "\n",
    "Analytically, we saw this also in 1.(c) where we derived that the entropy scales with the logarithm of $\\sigma$."
   ]
  },
  {
   "cell_type": "markdown",
   "metadata": {},
   "source": [
    "(d) Compute the mutual information $I(\\vec{K},\\theta) = H(\\vec{K}) − H(\\vec{K}|\\theta) = \\sum_i [H(K_i) − H(K_i|\\theta)]$ with the noise entropy \n",
    "\n",
    "$$H(K_i|\\theta) = N^{−1} \\sum_n [−k^{(n)}_i~ln(\\lambda_i(\\theta^{(n)})) + \\lambda_i(\\theta^{(n)}) + ln(k^{(n)}_i !)] $$"
   ]
  },
  {
   "cell_type": "code",
   "execution_count": 11,
   "metadata": {},
   "outputs": [],
   "source": [
    "def mutual_information(H, H_noise, k, lambdas):\n",
    "    mutual_information = np.sum(H - H_noise)\n",
    "    return mutual_information\n",
    "\n",
    "def noise_entropy(k, lambdas):\n",
    "    H_noise = np.zeros((k.shape[0]))\n",
    "    for i in range(k.shape[0]):\n",
    "        curr_h = 0\n",
    "        for j in range(k.shape[2]):\n",
    "            for l in range(k.shape[1]):\n",
    "                curr_h += -k[i, l, j] * np.log(lambdas[i, l]) + lambdas[i, l] + np.log(float(np.math.factorial(k[i, l, j])))\n",
    "        H_noise[i] = curr_h / (rep*len(p_theta))\n",
    "    return H_noise               "
   ]
  },
  {
   "cell_type": "code",
   "execution_count": 12,
   "metadata": {},
   "outputs": [
    {
     "name": "stdout",
     "output_type": "stream",
     "text": [
      "Entropy H(k1): 2.7512897604107653\n",
      "Noise entropy H(k1|theta): 2.2674241497433067\n",
      "Entropy H(k2): 1.5946193471370724\n",
      "Noise entropy H(k2|theta): 1.5185907402889915\n",
      "Mutual information I: 0.5598942175155395\n"
     ]
    }
   ],
   "source": [
    "H_noise = noise_entropy(k, lambdas)\n",
    "I = mutual_information(H, H_noise, k, lambdas)\n",
    "\n",
    "print('Entropy H(k1):', H[0])\n",
    "print('Noise entropy H(k1|theta):', H_noise[0])\n",
    "print('Entropy H(k2):', H[1])\n",
    "print('Noise entropy H(k2|theta):', H_noise[1])\n",
    "print('Mutual information I:', I)"
   ]
  },
  {
   "cell_type": "markdown",
   "metadata": {},
   "source": [
    "For neuron 1, the difference between entropy and noise entropy is larger than for neuron 2. "
   ]
  },
  {
   "cell_type": "markdown",
   "metadata": {},
   "source": [
    "(e) Compute the upper bound\n",
    "\n",
    "$$ I(\\vec{K},\\theta) = ln[1 + \\frac{var(\\theta)}{var(k_1)+var(k_2)}] / 2 $$"
   ]
  },
  {
   "cell_type": "code",
   "execution_count": 13,
   "metadata": {},
   "outputs": [],
   "source": [
    "def upper_bound(theta, k):\n",
    "    bound = np.log(1 + (np.var(theta) / (np.var(k[0, :, :]) + np.var(k[1, :, :]))) / 2)\n",
    "    return bound"
   ]
  },
  {
   "cell_type": "code",
   "execution_count": 14,
   "metadata": {},
   "outputs": [
    {
     "name": "stdout",
     "output_type": "stream",
     "text": [
      "Upper bound: 0.02183763364130612\n"
     ]
    }
   ],
   "source": [
    "bound = upper_bound(theta, k)\n",
    "\n",
    "print('Upper bound:', bound)"
   ]
  },
  {
   "cell_type": "markdown",
   "metadata": {},
   "source": [
    "Note: there was a mistake in the upper bound formula."
   ]
  },
  {
   "cell_type": "markdown",
   "metadata": {},
   "source": [
    "(f) Repeat your computations for a prior distribution $p(\\theta)$ in which $\\theta_6$ occurs 10 times as often as all\n",
    "the other $\\theta$s."
   ]
  },
  {
   "cell_type": "code",
   "execution_count": 15,
   "metadata": {},
   "outputs": [
    {
     "name": "stdout",
     "output_type": "stream",
     "text": [
      "Thetas: [0.         0.26179939 0.52359878 0.78539816 1.04719755 1.30899694\n",
      " 1.30899694 1.30899694 1.30899694 1.30899694 1.30899694 1.30899694\n",
      " 1.30899694 1.30899694 1.30899694 1.57079633 1.83259571 2.0943951\n",
      " 2.35619449 2.61799388 2.87979327]\n"
     ]
    },
    {
     "data": {
      "text/plain": [
       "Text(0.5, 1.0, 'stimulus distribution')"
      ]
     },
     "execution_count": 15,
     "metadata": {},
     "output_type": "execute_result"
    },
    {
     "data": {
      "image/png": "[encoded data removed]",
      "text/plain": [
       "<Figure size 432x288 with 1 Axes>"
      ]
     },
     "metadata": {
      "needs_background": "light"
     },
     "output_type": "display_data"
    }
   ],
   "source": [
    "# (a)\n",
    "\n",
    "rep = 100\n",
    "theta_raw = np.pi * np.arange(0, 12, 1) / 12\n",
    "theta = np.hstack((theta_raw[:5], np.full(10, theta_raw[5]), theta_raw[6:]))\n",
    "\n",
    "print('Thetas:', theta)\n",
    "plt.hist(theta, bins = 21)\n",
    "plt.xlabel('$\\\\theta$')\n",
    "plt.title('stimulus distribution')"
   ]
  },
  {
   "cell_type": "code",
   "execution_count": 16,
   "metadata": {},
   "outputs": [],
   "source": [
    "k = np.zeros((2, len(theta), rep))\n",
    "\n",
    "for i in range(rep):\n",
    "    k[:, :, i] = record(theta)"
   ]
  },
  {
   "cell_type": "code",
   "execution_count": 17,
   "metadata": {},
   "outputs": [
    {
     "name": "stdout",
     "output_type": "stream",
     "text": [
      "Optimization terminated successfully.\n",
      "         Current function value: -1196.481294\n",
      "         Iterations: 53\n",
      "         Function evaluations: 106\n",
      "Optimization terminated successfully.\n",
      "         Current function value: -1146.482693\n",
      "         Iterations: 60\n",
      "         Function evaluations: 116\n",
      "Optimization terminated successfully.\n",
      "         Current function value: -1228.150313\n",
      "         Iterations: 65\n",
      "         Function evaluations: 120\n",
      "Optimization terminated successfully.\n",
      "         Current function value: -1211.335701\n",
      "         Iterations: 61\n",
      "         Function evaluations: 120\n",
      "Optimization terminated successfully.\n",
      "         Current function value: -974.214804\n",
      "         Iterations: 56\n",
      "         Function evaluations: 109\n",
      "Optimization terminated successfully.\n",
      "         Current function value: -796.920013\n",
      "         Iterations: 58\n",
      "         Function evaluations: 111\n",
      "Optimization terminated successfully.\n",
      "         Current function value: -738.804575\n",
      "         Iterations: 52\n",
      "         Function evaluations: 99\n",
      "Optimization terminated successfully.\n",
      "         Current function value: -688.767087\n",
      "         Iterations: 52\n",
      "         Function evaluations: 101\n",
      "Optimization terminated successfully.\n",
      "         Current function value: -850.633429\n",
      "         Iterations: 62\n",
      "         Function evaluations: 117\n",
      "Optimization terminated successfully.\n",
      "         Current function value: -750.663436\n",
      "         Iterations: 52\n",
      "         Function evaluations: 103\n",
      "Optimization terminated successfully.\n",
      "         Current function value: -824.100227\n",
      "         Iterations: 54\n",
      "         Function evaluations: 106\n",
      "Optimization terminated successfully.\n",
      "         Current function value: -769.072682\n",
      "         Iterations: 52\n",
      "         Function evaluations: 101\n",
      "Optimization terminated successfully.\n",
      "         Current function value: -770.528056\n",
      "         Iterations: 52\n",
      "         Function evaluations: 100\n",
      "Optimization terminated successfully.\n",
      "         Current function value: -713.425568\n",
      "         Iterations: 54\n",
      "         Function evaluations: 103\n",
      "Optimization terminated successfully.\n",
      "         Current function value: -806.785900\n",
      "         Iterations: 56\n",
      "         Function evaluations: 109\n",
      "Optimization terminated successfully.\n",
      "         Current function value: -464.338476\n",
      "         Iterations: 45\n",
      "         Function evaluations: 88\n",
      "Optimization terminated successfully.\n",
      "         Current function value: -281.130281\n",
      "         Iterations: 47\n",
      "         Function evaluations: 91\n",
      "Optimization terminated successfully.\n",
      "         Current function value: -145.322896\n",
      "         Iterations: 52\n",
      "         Function evaluations: 100\n",
      "Optimization terminated successfully.\n",
      "         Current function value: 22.004382\n",
      "         Iterations: 50\n",
      "         Function evaluations: 96\n",
      "Optimization terminated successfully.\n",
      "         Current function value: 133.627337\n",
      "         Iterations: 47\n",
      "         Function evaluations: 95\n",
      "Optimization terminated successfully.\n",
      "         Current function value: 191.622763\n",
      "         Iterations: 50\n",
      "         Function evaluations: 96\n"
     ]
    },
    {
     "name": "stderr",
     "output_type": "stream",
     "text": [
      "<ipython-input-5-07c847c79c2e>:4: RuntimeWarning: invalid value encountered in log\n",
      "  log_lik = np.sum((k_1 * np.log(guess_lambda[0]) - guess_lambda[0])) + np.sum((k_2 * np.log(guess_lambda[1]) - guess_lambda[1])) # log-likelihood from product of two Poissons\n"
     ]
    }
   ],
   "source": [
    "# (b)\n",
    "\n",
    "lambdas = np.zeros((2, len(theta)))\n",
    "guess_lambda = np.random.rand(2)\n",
    "\n",
    "for i in range(len(theta)):\n",
    "    k_1 = k[0, i, :]\n",
    "    k_2 = k[1, i, :]\n",
    "    lambdas[:, i] = minimize_likelihood(guess_lambda, k_1, k_2)"
   ]
  },
  {
   "cell_type": "code",
   "execution_count": 18,
   "metadata": {},
   "outputs": [
    {
     "name": "stdout",
     "output_type": "stream",
     "text": [
      "lambda 1:\n",
      " [ 9.95003767  9.73996175 10.11002297 10.00997681  8.93001847  8.11002926\n",
      "  7.79000729  7.50006011  8.25999565  7.8099648   8.1400083   7.8399652\n",
      "  7.87003255  7.54998539  8.09995719  6.2400675   5.26003048  4.35996927\n",
      "  3.05004596  2.05996036  1.110018  ] \n",
      "lambda 2:\n",
      " [0.68998194 0.74999364 1.05999606 1.3800183  1.5300082  1.48999514\n",
      " 1.66996976 1.82999703 1.90996683 1.80997602 1.89001604 1.99999359\n",
      " 1.92999897 2.05002595 1.73999096 2.10001071 1.92999512 2.00996485\n",
      " 2.06000125 1.76001294 1.42002266]\n"
     ]
    }
   ],
   "source": [
    "print('lambda 1:\\n', lambdas[0, :], '\\nlambda 2:\\n', lambdas[1, :])"
   ]
  },
  {
   "cell_type": "code",
   "execution_count": 19,
   "metadata": {},
   "outputs": [
    {
     "name": "stdout",
     "output_type": "stream",
     "text": [
      "Entropy H(k1): 2.693810124798059\n",
      "Entropy H(k2): 1.6229517888915037\n"
     ]
    }
   ],
   "source": [
    "# (c)\n",
    "\n",
    "p_theta = np.full(len(theta), 1/21)\n",
    "\n",
    "H = entropy(k, rep, lambdas, p_theta)\n",
    "\n",
    "print('Entropy H(k1):', H[0])\n",
    "print('Entropy H(k2):', H[1])"
   ]
  },
  {
   "cell_type": "code",
   "execution_count": 20,
   "metadata": {},
   "outputs": [
    {
     "name": "stdout",
     "output_type": "stream",
     "text": [
      "Entropy H(k1): 2.693810124798059\n",
      "Noise entropy H(k1|theta): 2.3238892274626264\n",
      "Entropy H(k2): 1.6229517888915037\n",
      "Noise entropy H(k2|theta): 1.5685764617767224\n",
      "Mutual information I: 0.424296224450214\n"
     ]
    }
   ],
   "source": [
    "# (d)\n",
    "\n",
    "H_noise = noise_entropy(k, lambdas)\n",
    "I = mutual_information(H, H_noise, k, lambdas)\n",
    "\n",
    "print('Entropy H(k1):', H[0])\n",
    "print('Noise entropy H(k1|theta):', H_noise[0])\n",
    "print('Entropy H(k2):', H[1])\n",
    "print('Noise entropy H(k2|theta):', H_noise[1])\n",
    "print('Mutual information I:', I)"
   ]
  },
  {
   "cell_type": "code",
   "execution_count": 21,
   "metadata": {},
   "outputs": [
    {
     "name": "stdout",
     "output_type": "stream",
     "text": [
      "Upper bound: 0.015299403236788025\n"
     ]
    }
   ],
   "source": [
    "# (e)\n",
    "\n",
    "bound = upper_bound(theta, k)\n",
    "\n",
    "print('Upper bound:', bound)"
   ]
  },
  {
   "cell_type": "markdown",
   "metadata": {},
   "source": [
    "Comment on 1.(f):\n",
    "\n",
    "For both neurons, the difference between the entropy and noise entropy decreases (entropies decrease while noise entropies increase). Therefore, the mutual information becomes smaller because with the peaked stimulus distributions (distribution of thetas) because the output is more certain (less surprising / less variability), which leads to a smaller variability in the output and therefore variability that is still in the output is due to contribution of the noise."
   ]
  }
 ],
 "metadata": {
  "kernelspec": {
   "display_name": "Python 3",
   "language": "python",
   "name": "python3"
  },
  "language_info": {
   "codemirror_mode": {
    "name": "ipython",
    "version": 3
   },
   "file_extension": ".py",
   "mimetype": "text/x-python",
   "name": "python",
   "nbconvert_exporter": "python",
   "pygments_lexer": "ipython3",
   "version": "3.8.3"
  }
 },
 "nbformat": 4,
 "nbformat_minor": 4
}
