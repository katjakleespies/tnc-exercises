{
 "cells": [
  {
   "cell_type": "code",
   "execution_count": 1,
   "metadata": {},
   "outputs": [],
   "source": [
    "import numpy as np\n",
    "import matplotlib.pyplot as plt\n",
    "from scipy import optimize"
   ]
  },
  {
   "cell_type": "code",
   "execution_count": 2,
   "metadata": {},
   "outputs": [],
   "source": [
    "import numpy as np\n",
    "import scipy.stats as scist\n",
    "\n",
    "def record(theta):\n",
    "\n",
    "    mu1=10.*(np.cos(theta-np.pi/8)+1)/2\n",
    "    \n",
    "    mu2=2.*(np.cos(theta-5*np.pi/8)+1)/2\n",
    "\n",
    "    k=np.zeros((2,len(theta)))\n",
    "    noise=np.random.rand(2,len(theta))\n",
    "    for n in range(len(theta)):\n",
    "        th=theta[n]\n",
    "        k[0,n]=scist.poisson.ppf(noise[0,n],mu1[n])\n",
    "        k[1,n]=scist.poisson.ppf(noise[1,n],mu2[n])\n",
    "\n",
    "\n",
    "    return k"
   ]
  },
  {
   "cell_type": "code",
   "execution_count": 3,
   "metadata": {},
   "outputs": [
    {
     "name": "stdout",
     "output_type": "stream",
     "text": [
      "[0.         0.26179939 0.52359878 0.78539816 1.04719755 1.30899694\n",
      " 1.57079633 1.83259571 2.0943951  2.35619449 2.61799388 2.87979327\n",
      " 1.30899694 1.30899694 1.30899694 1.30899694 1.30899694 1.30899694\n",
      " 1.30899694 1.30899694 1.30899694]\n",
      "[0.         0.26179939 0.52359878 0.78539816 1.04719755 1.30899694\n",
      " 1.30899694 1.30899694 1.30899694 1.30899694 1.30899694 1.30899694\n",
      " 1.30899694 1.30899694 1.30899694 1.57079633 1.83259571 2.0943951\n",
      " 2.35619449 2.61799388 2.87979327]\n",
      "(21,)\n"
     ]
    }
   ],
   "source": [
    "my_theta = np.pi * np.arange(12) / 12\n",
    "\n",
    "my_theta_add = np.pi *5 / 12 * np.ones(9)\n",
    "my_theta = np.concatenate((my_theta, my_theta_add))\n",
    "print(my_theta)\n",
    "my_theta = np.sort(my_theta)\n",
    "print(my_theta)\n",
    "print(my_theta.shape)"
   ]
  },
  {
   "cell_type": "code",
   "execution_count": 4,
   "metadata": {},
   "outputs": [],
   "source": [
    "def my_likelihood(my_lambda, my_k1, my_k2):\n",
    "    lambda1, lambda2 = my_lambda\n",
    "    y = 0\n",
    "    \n",
    "    for i in range(len(my_k1)):\n",
    "        y += np.log(lambda1**my_k1[i] * lambda2**my_k2[i] * np.exp(-lambda1-lambda2) / (np.math.factorial(my_k1[i]) * np.math.factorial(my_k1[i])))\n",
    "       \n",
    "    \n",
    "    return -y"
   ]
  },
  {
   "cell_type": "code",
   "execution_count": 5,
   "metadata": {},
   "outputs": [],
   "source": [
    "N = 100\n",
    "my_k1 = np.zeros((N, len(my_theta)))\n",
    "my_k2 = np.zeros((N, len(my_theta)))\n",
    "lambda1 = 1\n",
    "lambda2 = 1\n",
    "\n",
    "\n",
    "for i in range(N):\n",
    "    kk = record(my_theta)\n",
    "    my_k1[i,:] = kk[0,:]\n",
    "    my_k2[i,:] = kk[1,:]\n",
    "    \n"
   ]
  },
  {
   "cell_type": "code",
   "execution_count": 7,
   "metadata": {},
   "outputs": [
    {
     "name": "stderr",
     "output_type": "stream",
     "text": [
      "<ipython-input-4-a40cbe2a2625>:6: RuntimeWarning: invalid value encountered in log\n",
      "  y += np.log(lambda1**my_k1[i] * lambda2**my_k2[i] * np.exp(-lambda1-lambda2) / (np.math.factorial(my_k1[i]) * np.math.factorial(my_k1[i])))\n"
     ]
    },
    {
     "name": "stdout",
     "output_type": "stream",
     "text": [
      "Optimization terminated successfully.\n",
      "         Current function value: 1721.893013\n",
      "         Iterations: 53\n",
      "         Function evaluations: 104\n",
      "Optimization terminated successfully.\n",
      "         Current function value: 1886.085937\n",
      "         Iterations: 57\n",
      "         Function evaluations: 110\n",
      "Optimization terminated successfully.\n",
      "         Current function value: 2011.359478\n",
      "         Iterations: 59\n",
      "         Function evaluations: 113\n",
      "Optimization terminated successfully.\n",
      "         Current function value: 1898.339407\n",
      "         Iterations: 52\n",
      "         Function evaluations: 100\n",
      "Optimization terminated successfully.\n",
      "         Current function value: 1650.380794\n",
      "         Iterations: 51\n",
      "         Function evaluations: 99\n",
      "Optimization terminated successfully.\n",
      "         Current function value: 1400.468942\n",
      "         Iterations: 45\n",
      "         Function evaluations: 89\n",
      "Optimization terminated successfully.\n",
      "         Current function value: 1533.407586\n",
      "         Iterations: 50\n",
      "         Function evaluations: 96\n",
      "Optimization terminated successfully.\n",
      "         Current function value: 1399.791947\n",
      "         Iterations: 47\n",
      "         Function evaluations: 91\n",
      "Optimization terminated successfully.\n",
      "         Current function value: 1428.007646\n",
      "         Iterations: 46\n",
      "         Function evaluations: 89\n",
      "Optimization terminated successfully.\n",
      "         Current function value: 1404.620596\n",
      "         Iterations: 45\n",
      "         Function evaluations: 89\n",
      "Optimization terminated successfully.\n",
      "         Current function value: 1497.881096\n",
      "         Iterations: 55\n",
      "         Function evaluations: 104\n",
      "Optimization terminated successfully.\n",
      "         Current function value: 1478.014364\n",
      "         Iterations: 47\n",
      "         Function evaluations: 92\n",
      "Optimization terminated successfully.\n",
      "         Current function value: 1472.941791\n",
      "         Iterations: 47\n",
      "         Function evaluations: 90\n",
      "Optimization terminated successfully.\n",
      "         Current function value: 1496.001272\n",
      "         Iterations: 46\n",
      "         Function evaluations: 89\n",
      "Optimization terminated successfully.\n",
      "         Current function value: 1453.343594\n",
      "         Iterations: 44\n",
      "         Function evaluations: 88\n",
      "Optimization terminated successfully.\n",
      "         Current function value: 1120.794600\n",
      "         Iterations: 44\n",
      "         Function evaluations: 82\n",
      "Optimization terminated successfully.\n",
      "         Current function value: 842.837903\n",
      "         Iterations: 41\n",
      "         Function evaluations: 81\n",
      "Optimization terminated successfully.\n",
      "         Current function value: 703.594587\n",
      "         Iterations: 44\n",
      "         Function evaluations: 87\n",
      "Optimization terminated successfully.\n",
      "         Current function value: 549.767866\n",
      "         Iterations: 42\n",
      "         Function evaluations: 79\n",
      "Optimization terminated successfully.\n",
      "         Current function value: 404.352315\n",
      "         Iterations: 41\n",
      "         Function evaluations: 79\n",
      "Optimization terminated successfully.\n",
      "         Current function value: 260.072314\n",
      "         Iterations: 31\n",
      "         Function evaluations: 61\n"
     ]
    },
    {
     "data": {
      "text/plain": [
       "<matplotlib.legend.Legend at 0x25fcc7c94c0>"
      ]
     },
     "execution_count": 7,
     "metadata": {},
     "output_type": "execute_result"
    },
    {
     "data": {
      "image/png": "[encoded data removed]",
      "text/plain": [
       "<Figure size 432x288 with 1 Axes>"
      ]
     },
     "metadata": {
      "needs_background": "light"
     },
     "output_type": "display_data"
    }
   ],
   "source": [
    "result_lambda1 = []\n",
    "result_lambda2 = []\n",
    "my_lambda = [lambda1, lambda2]\n",
    "\n",
    "for i in range(len(my_theta)):\n",
    "    minimum = optimize.fmin(my_likelihood, my_lambda, args = (my_k1[:, i], my_k2[:, i]))\n",
    "    result_lambda1.append(minimum[0])\n",
    "    result_lambda2.append(minimum[1])\n",
    "    \n",
    "plt.figure()\n",
    "plt.plot(my_theta, result_lambda1, label = 'lambda1')\n",
    "plt.plot(my_theta, result_lambda2, label = 'lambda2')\n",
    "plt.legend()\n",
    "    \n",
    "\n"
   ]
  },
  {
   "cell_type": "code",
   "execution_count": 9,
   "metadata": {},
   "outputs": [
    {
     "name": "stdout",
     "output_type": "stream",
     "text": [
      "(100, 21)\n"
     ]
    }
   ],
   "source": [
    "print(my_k1.shape)"
   ]
  },
  {
   "cell_type": "code",
   "execution_count": 8,
   "metadata": {},
   "outputs": [
    {
     "name": "stdout",
     "output_type": "stream",
     "text": [
      "2.6843465191038547\n",
      "1.639702773203685\n"
     ]
    }
   ],
   "source": [
    "my_enthropy1 = 0\n",
    "my_enthropy2 = 0\n",
    "p_theta = 1/21\n",
    "\n",
    "#FOR THE FIRST\n",
    "\n",
    "for i in range(N):\n",
    "    for k in range(21):\n",
    "        my_margin = 0\n",
    "        for j in range(21):\n",
    "            cur_lambda = result_lambda1[j]\n",
    "            my_margin +=  (cur_lambda ** my_k1[i, k] * np.exp(-cur_lambda) / np.math.factorial(my_k1[i, k]) ) * p_theta\n",
    "\n",
    "        my_enthropy1 += np.log(my_margin)\n",
    "    \n",
    "    \n",
    "my_enthropy1 = -my_enthropy1 / (N*21)\n",
    "\n",
    "print(my_enthropy1)\n",
    "\n",
    "\n",
    "\n",
    "#FOR THE SECOND\n",
    "\n",
    "for i in range(N):\n",
    "    for k in range(21):\n",
    "        my_margin = 0\n",
    "        for j in range(21):\n",
    "            cur_lambda = result_lambda2[j]\n",
    "            my_margin +=  (cur_lambda ** my_k2[i, k] * np.exp(-cur_lambda) / np.math.factorial(my_k2[i, k]) ) * p_theta\n",
    "\n",
    "        my_enthropy2 += np.log(my_margin)\n",
    "    \n",
    "    \n",
    "my_enthropy2 = -my_enthropy2 / (N*21)\n",
    "\n",
    "print(my_enthropy2)"
   ]
  },
  {
   "cell_type": "code",
   "execution_count": 58,
   "metadata": {},
   "outputs": [],
   "source": [
    "#AAAAAAAAAAAAAAAAAAAAAAAAAAAAAAAAAAAAAAAAAAAAA\n",
    "#AAAAAAAAAAAAAAAAAAAAAAAAAAAAAAAAAAAAAAAA\n",
    "#AAAAAAAAAAAAAAAAAAAAAAAAAAAAAAAAAAAAAAAAAAAAAAAA\n",
    "#CALCULATING MUTUAL INFORMATION\n",
    " \n"
   ]
  },
  {
   "cell_type": "code",
   "execution_count": 1,
   "metadata": {},
   "outputs": [],
   "source": [
    "##I CHECK DIFFERENT WAYS TO CALCULATE IT\n",
    "\n"
   ]
  },
  {
   "cell_type": "code",
   "execution_count": 2,
   "metadata": {},
   "outputs": [],
   "source": [
    "##I CHECK DIFFERENT WAYS TO CALCULATE IT\n"
   ]
  },
  {
   "cell_type": "code",
   "execution_count": 9,
   "metadata": {},
   "outputs": [
    {
     "name": "stdout",
     "output_type": "stream",
     "text": [
      "Entropy1 2.6843465191038547\n",
      "Noise entropy1 2.3168806812942684\n",
      "Entropy2 1.639702773203685\n",
      "Noise entropy2 1.5952422208947463\n",
      "Mutual info 0.41192639011852483\n"
     ]
    }
   ],
   "source": [
    "#THE LAST WAY I CALCULATED IT\n",
    "\n",
    "noise_ent1 = 0\n",
    "noise_ent2 = 0\n",
    "p_theta = 1/21\n",
    "\n",
    "#FOR THE FIRST\n",
    "\n",
    "for i in range(N):\n",
    "    my_dent = 0\n",
    "    for j in range(21):\n",
    "        cur_lambda = result_lambda1[j]\n",
    "        my_dent +=  (-my_k1[i, j] * np.log(cur_lambda) + cur_lambda + np.log(float(np.math.factorial(my_k1[i, j]))))\n",
    "\n",
    "    noise_ent1 += my_dent\n",
    "    \n",
    "    \n",
    "noise_ent1 = noise_ent1 / (N * 21)\n",
    "\n",
    "print('Entropy1',my_enthropy1)\n",
    "print('Noise entropy1',noise_ent1)\n",
    "\n",
    "\n",
    "\n",
    "#FOR THE SECOND\n",
    "\n",
    "for i in range(N):\n",
    "    my_dent = 0\n",
    "    for j in range(21):\n",
    "        cur_lambda = result_lambda2[j]\n",
    "        my_dent +=  (-my_k2[i, j] * np.log(cur_lambda) + cur_lambda + np.log(float(np.math.factorial(my_k2[i, j]))))\n",
    "\n",
    "    noise_ent2 += my_dent\n",
    "    \n",
    "    \n",
    "noise_ent2 = noise_ent2 / (N * 21)\n",
    "\n",
    "print('Entropy2',my_enthropy2)\n",
    "print('Noise entropy2',noise_ent2)\n",
    "\n",
    "\n",
    "mut_info = my_enthropy1+my_enthropy2 - noise_ent1-noise_ent2\n",
    "print('Mutual info', mut_info)"
   ]
  },
  {
   "cell_type": "code",
   "execution_count": 10,
   "metadata": {},
   "outputs": [
    {
     "name": "stdout",
     "output_type": "stream",
     "text": [
      "Upper bound 0.015454127950320183\n"
     ]
    }
   ],
   "source": [
    "upper_bound = np.log(1 + np.var(my_theta) / (np.var(my_k1) + np.var(my_k2))) / 2\n",
    "print('Upper bound', upper_bound)       "
   ]
  },
  {
   "cell_type": "code",
   "execution_count": null,
   "metadata": {},
   "outputs": [],
   "source": []
  }
 ],
 "metadata": {
  "kernelspec": {
   "display_name": "Python 3",
   "language": "python",
   "name": "python3"
  },
  "language_info": {
   "codemirror_mode": {
    "name": "ipython",
    "version": 3
   },
   "file_extension": ".py",
   "mimetype": "text/x-python",
   "name": "python",
   "nbconvert_exporter": "python",
   "pygments_lexer": "ipython3",
   "version": "3.8.3"
  }
 },
 "nbformat": 4,
 "nbformat_minor": 5
}
